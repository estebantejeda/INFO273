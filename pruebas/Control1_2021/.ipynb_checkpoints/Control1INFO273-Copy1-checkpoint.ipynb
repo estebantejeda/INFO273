{
 "cells": [
  {
   "cell_type": "markdown",
   "metadata": {},
   "source": [
    "# Control 1 INFO273\n",
    "## Pregunta 1\n",
    "Se tiene un servidor web de documentos. La tabla \"ServidorWeb.csv\"  presenta los\n",
    "tiempos de procesador, de entrada/salida y de presencia en el sistema de los diez tipos\n",
    "de solicitudes de documentos a ese servidor web. El tiempo de ejecución corresponde al tiempo total que el servidor necesita para servir la solicitud. \n",
    "Se solicita hacer una caracterización de la carga siguiendo un criterio de\n",
    "alta representatividad, teniendo en cuenta que el tiempo de ejecución es directamente proporcional\n",
    "al tamaño del documento y utilizando la distancia euclídea como métrica de\n",
    "agrupamiento.\n",
    "Para ello se solicita:\n",
    "\n",
    "1) Realizar el agrupamiento considerando la función hclust de R. Justifique los parámetros utilizados.\n",
    "\n",
    "2) A partir del dendograma y los datos originales, decidir el número de grupos que es representativo de los distintos tipos de solicitudes. Explique su decisión. \n",
    "\n",
    "3) Representar en el primer plano de componentes principales, los grupos definidos. Calcular valores medios en cada grupo y realizar una interpretación de cada uno."
   ]
  },
  {
   "cell_type": "code",
   "execution_count": 1,
   "metadata": {},
   "outputs": [
    {
     "name": "stdout",
     "output_type": "stream",
     "text": [
      "     CPU    E.S TpoEjec\n",
      "1    9.4   39.0      70\n",
      "2   12.9   10.0     144\n",
      "3   15.3   11.9     154\n",
      "4    8.7   39.0      64\n",
      "5   11.0   90.0     112\n",
      "6   17.0  140.0     162\n",
      "7  216.0 1200.0    4400\n",
      "8  130.0  120.0     452\n",
      "9   90.0   50.0     150\n",
      "10 170.0  140.0     390\n"
     ]
    },
    {
     "data": {
      "text/plain": [
       "      CPU              E.S          TpoEjec      \n",
       " Min.   :  8.70   Min.   :  10   Min.   :  64.0  \n",
       " 1st Qu.: 11.47   1st Qu.:  39   1st Qu.: 120.0  \n",
       " Median : 16.15   Median :  70   Median : 152.0  \n",
       " Mean   : 68.03   Mean   : 184   Mean   : 609.8  \n",
       " 3rd Qu.:120.00   3rd Qu.: 135   3rd Qu.: 333.0  \n",
       " Max.   :216.00   Max.   :1200   Max.   :4400.0  "
      ]
     },
     "metadata": {},
     "output_type": "display_data"
    },
    {
     "data": {
      "image/png": "[encoded data removed]",
      "text/plain": [
       "plot without title"
      ]
     },
     "metadata": {
      "image/png": {
       "height": 420,
       "width": 420
      },
      "text/plain": {
       "height": 420,
       "width": 420
      }
     },
     "output_type": "display_data"
    }
   ],
   "source": [
    "#ruta datos\n",
    "#lee datos del archivo de texto como una matriz. La primera #fila se utiliza \n",
    "#como vector de nombres de las columnas\n",
    "datos <-read.table(\"ServidorWeb.csv\",dec=\".\",sep=\",\",header=TRUE)\n",
    "datos <- datos[,2:4]\n",
    "print(datos)\n",
    "summary(datos)\n",
    "boxplot(datos)"
   ]
  },
  {
   "cell_type": "markdown",
   "metadata": {},
   "source": [
    "## Pregunta 2\n",
    "De los resultados publicados de SPEC2017 para el índice de operaciones con coma flotante,\n",
    "se ha extraído en el archivo \"datosSpec.csv\" los valores obtenidos con dos servidores.\n",
    "\n",
    "Servidor A: ASUS ESC8000 G4(Z11PG-D24) Server System (3.40 GHz, Intel Xeon Gold 6246R)\n",
    "\n",
    "Servidor B: ASUS RS700A-E9V2(KNPP-D32-R) Server System (3.20 GHz, AMD EPYC 7F72)\n",
    "\n",
    "Para comparar su rendimiento se pide calcular:\n",
    "\n",
    "1) El índice de prestaciones al estilo SPEC para los servidores A y B. Interprete sus resultados.\n",
    "\n",
    "2) Considerando los tiempos de ejecución de cada programa, comparar los rendimientos de los servidores A y B. Son significativas las diferencias?\n",
    "\n",
    "3) Compare sus resultados en (1) y (2). Son consistentes? Interprete a la luz de las configuraciones de ambos servidores."
   ]
  },
  {
   "cell_type": "code",
   "execution_count": 14,
   "metadata": {},
   "outputs": [
    {
     "name": "stdout",
     "output_type": "stream",
     "text": [
      "   Reference_Time BaseRunTime_A PeakRunTime_A BaseRunTime_B PeakRunTime_B\n",
      "1             590           100           100           105           105\n",
      "2             167           102           102            64            64\n",
      "3              52            47            47            87            87\n",
      "4             132            84            82           111           105\n",
      "5              89            90            90            89            89\n",
      "6             119           155           153           217           217\n",
      "7             144           113           113            68            68\n",
      "8             175            68            68            58            50\n",
      "9              91            97            96            96            96\n",
      "10            157            81            81            75            75\n"
     ]
    },
    {
     "data": {
      "text/plain": [
       " Reference_Time  BaseRunTime_A    PeakRunTime_A    BaseRunTime_B   \n",
       " Min.   : 52.0   Min.   : 47.00   Min.   : 47.00   Min.   : 58.00  \n",
       " 1st Qu.: 98.0   1st Qu.: 81.75   1st Qu.: 81.25   1st Qu.: 69.75  \n",
       " Median :138.0   Median : 93.50   Median : 93.00   Median : 88.00  \n",
       " Mean   :171.6   Mean   : 93.70   Mean   : 93.20   Mean   : 97.00  \n",
       " 3rd Qu.:164.5   3rd Qu.:101.50   3rd Qu.:101.50   3rd Qu.:102.75  \n",
       " Max.   :590.0   Max.   :155.00   Max.   :153.00   Max.   :217.00  \n",
       " PeakRunTime_B   \n",
       " Min.   : 50.00  \n",
       " 1st Qu.: 69.75  \n",
       " Median : 88.00  \n",
       " Mean   : 95.60  \n",
       " 3rd Qu.:102.75  \n",
       " Max.   :217.00  "
      ]
     },
     "metadata": {},
     "output_type": "display_data"
    },
    {
     "data": {
      "image/png": "[encoded data removed]",
      "text/plain": [
       "plot without title"
      ]
     },
     "metadata": {
      "image/png": {
       "height": 420,
       "width": 420
      },
      "text/plain": {
       "height": 420,
       "width": 420
      }
     },
     "output_type": "display_data"
    }
   ],
   "source": [
    "#ruta datos\n",
    "#lee datos del archivo de texto como una matriz. La primera #fila se utiliza \n",
    "#como vector de nombres de las columnas\n",
    "datos <-read.table(\"datosSPEC.csv\",sep=\";\",header=TRUE)\n",
    "\n",
    "print(datos[,2:6])\n",
    "summary(datos[,2:6])\n",
    "boxplot(datos[,2:6])"
   ]
  },
  {
   "cell_type": "code",
   "execution_count": null,
   "metadata": {},
   "outputs": [],
   "source": []
  }
 ],
 "metadata": {
  "celltoolbar": "Raw Cell Format",
  "kernelspec": {
   "display_name": "R",
   "language": "R",
   "name": "ir"
  },
  "language_info": {
   "codemirror_mode": "r",
   "file_extension": ".r",
   "mimetype": "text/x-r-source",
   "name": "R",
   "pygments_lexer": "r",
   "version": "3.6.1"
  }
 },
 "nbformat": 4,
 "nbformat_minor": 2
}
