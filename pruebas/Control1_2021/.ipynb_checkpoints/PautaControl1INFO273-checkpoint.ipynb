{
 "cells": [
  {
   "cell_type": "markdown",
   "metadata": {},
   "source": [
    "# PAUTA Control 1 INFO273\n",
    "## Pregunta 1\n",
    "Se tiene un servidor web de documentos. La tabla \"ServidorWeb.csv\"  presenta los\n",
    "tiempos de procesador, de entrada/salida y de presencia en el sistema de los diez tipos\n",
    "de solicitudes de documentos a ese servidor web. El tiempo de ejecución corresponde al tiempo total que el servidor necesita para servir la solicitud. \n",
    "Se solicita hacer una caracterización de la carga siguiendo un criterio de\n",
    "alta representatividad, teniendo en cuenta que el tiempo de ejecución es directamente proporcional\n",
    "al tamaño del documento y utilizando la distancia euclídea como métrica de\n",
    "agrupamiento.\n",
    "Para ello se solicita:\n",
    "\n",
    "1) Realizar el agrupamiento considerando la función hclust de R. Justifique los parámetros utilizados.\n",
    "\n",
    "2) A partir del dendograma y los datos originales, decidir el número de grupos que es representativo de los distintos tipos de solicitudes. Explique su decisión. \n",
    "\n",
    "3) Representar en el primer plano de componentes principales, los grupos definidos. Calcular valores medios en cada grupo y realizar una interpretación de cada uno."
   ]
  },
  {
   "cell_type": "code",
   "execution_count": 5,
   "metadata": {},
   "outputs": [
    {
     "data": {
      "text/plain": [
       "      CPU              E.S          TpoEjec      \n",
       " Min.   :  8.70   Min.   :  10   Min.   :  64.0  \n",
       " 1st Qu.: 11.47   1st Qu.:  39   1st Qu.: 120.0  \n",
       " Median : 16.15   Median :  70   Median : 152.0  \n",
       " Mean   : 68.03   Mean   : 184   Mean   : 609.8  \n",
       " 3rd Qu.:120.00   3rd Qu.: 135   3rd Qu.: 333.0  \n",
       " Max.   :216.00   Max.   :1200   Max.   :4400.0  "
      ]
     },
     "metadata": {},
     "output_type": "display_data"
    },
    {
     "data": {
      "image/png": "[encoded data removed]",
      "text/plain": [
       "plot without title"
      ]
     },
     "metadata": {
      "image/png": {
       "height": 420,
       "width": 420
      },
      "text/plain": {
       "height": 420,
       "width": 420
      }
     },
     "output_type": "display_data"
    }
   ],
   "source": [
    "#ruta datos\n",
    "#lee datos del archivo de texto como una matriz. La primera #fila se utiliza \n",
    "#como vector de nombres de las columnas\n",
    "datos <-read.table(\"ServidorWeb.csv\",dec=\".\",sep=\",\",header=TRUE)\n",
    "datos <- datos[,2:4]\n",
    "summary(datos)\n",
    "boxplot(datos)"
   ]
  },
  {
   "cell_type": "markdown",
   "metadata": {},
   "source": [
    "**Respuesta 1.1**\n",
    "Al calcular las distancias se utiliza la norma Euclidiana (dist sin parámetros) porque no se le asignará mas importancia a una variable que otra. El parámetro method en la función hclust se definió como \"single\" que significa que se considera la menor distancia entre pares de individuos de distintos cluster, como medida de distancia entre clusters. Se escoge porque promueve la formación de grupos mas extendidos."
   ]
  },
  {
   "cell_type": "code",
   "execution_count": 13,
   "metadata": {},
   "outputs": [
    {
     "data": {
      "image/png": "[encoded data removed]",
      "text/plain": [
       "Plot with title \"Cluster Servidor Web Dendograma\""
      ]
     },
     "metadata": {
      "image/png": {
       "height": 480,
       "width": 480
      },
      "text/plain": {
       "height": 480,
       "width": 480
      }
     },
     "output_type": "display_data"
    }
   ],
   "source": [
    "datos_s <-scale(datos)\n",
    "d <- dist(datos_s)\n",
    "hd <- hclust(d,method=\"single\",members=NULL)\n",
    "options(repr.plot.width = 8, repr.plot.height = 8)\n",
    "plot(hd,labels=NULL,main=\"Cluster Servidor Web Dendograma\",sub=NULL,xlab=NULL,ylab=\"Height\")"
   ]
  },
  {
   "cell_type": "markdown",
   "metadata": {},
   "source": [
    "**Respuesta 1.2**\n",
    "\n",
    "Se considera una linea de corte a la altura de 0.9 para obtener 3 grupos que presentan un comportamiento similar y posible de interpretar. Las clases definidas son:\n",
    "    - C1= {1,2,3,4,5,6}\n",
    "    - C2 ={7}\n",
    "    - C3 = {8,9,10}\n",
    " Como se ve mas abajo, las escalas de los datos está directamente relacionada con el grupo al que pertenecen."
   ]
  },
  {
   "cell_type": "code",
   "execution_count": 9,
   "metadata": {},
   "outputs": [
    {
     "data": {
      "text/plain": [
       "      CPU             E.S            TpoEjec     \n",
       " Min.   : 8.70   Min.   : 10.00   Min.   : 64.0  \n",
       " 1st Qu.: 9.80   1st Qu.: 18.68   1st Qu.: 80.5  \n",
       " Median :11.95   Median : 39.00   Median :128.0  \n",
       " Mean   :12.38   Mean   : 54.98   Mean   :117.7  \n",
       " 3rd Qu.:14.70   3rd Qu.: 77.25   3rd Qu.:151.5  \n",
       " Max.   :17.00   Max.   :140.00   Max.   :162.0  "
      ]
     },
     "metadata": {},
     "output_type": "display_data"
    },
    {
     "data": {
      "text/plain": [
       "      CPU           E.S          TpoEjec    \n",
       " Min.   :216   Min.   :1200   Min.   :4400  \n",
       " 1st Qu.:216   1st Qu.:1200   1st Qu.:4400  \n",
       " Median :216   Median :1200   Median :4400  \n",
       " Mean   :216   Mean   :1200   Mean   :4400  \n",
       " 3rd Qu.:216   3rd Qu.:1200   3rd Qu.:4400  \n",
       " Max.   :216   Max.   :1200   Max.   :4400  "
      ]
     },
     "metadata": {},
     "output_type": "display_data"
    },
    {
     "data": {
      "text/plain": [
       "      CPU           E.S           TpoEjec     \n",
       " Min.   : 90   Min.   : 50.0   Min.   :150.0  \n",
       " 1st Qu.:110   1st Qu.: 85.0   1st Qu.:270.0  \n",
       " Median :130   Median :120.0   Median :390.0  \n",
       " Mean   :130   Mean   :103.3   Mean   :330.7  \n",
       " 3rd Qu.:150   3rd Qu.:130.0   3rd Qu.:421.0  \n",
       " Max.   :170   Max.   :140.0   Max.   :452.0  "
      ]
     },
     "metadata": {},
     "output_type": "display_data"
    },
    {
     "data": {
      "image/png": "[encoded data removed]",
      "text/plain": [
       "plot without title"
      ]
     },
     "metadata": {
      "image/png": {
       "height": 240,
       "width": 960
      },
      "text/plain": {
       "height": 240,
       "width": 960
      }
     },
     "output_type": "display_data"
    }
   ],
   "source": [
    "datosC1 <- datos[1:6,]\n",
    "datosC2 <- datos[7,]\n",
    "datosC3 <- datos[8:10,]\n",
    "summary(datosC1)\n",
    "summary(datosC2)\n",
    "summary(datosC3)\n",
    "par(mfrow=c(1,3))\n",
    "options(repr.plot.width = 16, repr.plot.height = 4)\n",
    "boxplot(datosC1)\n",
    "boxplot(datosC2)\n",
    "boxplot(datosC3)"
   ]
  },
  {
   "cell_type": "code",
   "execution_count": 16,
   "metadata": {},
   "outputs": [
    {
     "data": {
      "text/plain": [
       "Importance of components:\n",
       "                          Comp.1    Comp.2      Comp.3\n",
       "Standard deviation     1.6221974 0.6024360 0.074474899\n",
       "Proportion of Variance 0.8771748 0.1209764 0.001848837\n",
       "Cumulative Proportion  0.8771748 0.9981512 1.000000000"
      ]
     },
     "metadata": {},
     "output_type": "display_data"
    },
    {
     "data": {
      "image/png": "[encoded data removed]",
      "text/plain": [
       "Plot with title \"res\""
      ]
     },
     "metadata": {
      "image/png": {
       "height": 480,
       "width": 480
      },
      "text/plain": {
       "height": 480,
       "width": 480
      }
     },
     "output_type": "display_data"
    },
    {
     "name": "stdout",
     "output_type": "stream",
     "text": [
      "         Comp.1     Comp.2        Comp.3\n",
      "[1,] -0.8554923 -0.3482500  0.0023660399\n",
      "[2,]  4.6274369 -0.5441701 -0.0118763043\n",
      "[3,]  0.1685057  0.8778900 -0.0007733116\n"
     ]
    },
    {
     "data": {
      "image/png": "[encoded data removed]",
      "text/plain": [
       "plot without title"
      ]
     },
     "metadata": {
      "image/png": {
       "height": 480,
       "width": 480
      },
      "text/plain": {
       "height": 480,
       "width": 480
      }
     },
     "output_type": "display_data"
    }
   ],
   "source": [
    "library(rattle)\n",
    "#grafica los centros de cada grupo en el plano de componentes principales utilizando colores distintos\n",
    "res <- princomp(datos, cor=TRUE)\n",
    "summary(res)\n",
    "plot(res)\n",
    "biplot(res,xlabs=cutree(hd,3))\n",
    "centros <- centers.hclust(datos,hd,3)\n",
    "res2 <- predict(res,centros)\n",
    "print(res2)\n",
    "points(res2[,1:2],col=1:3,pch=19)"
   ]
  },
  {
   "cell_type": "markdown",
   "metadata": {},
   "source": [
    "**Respuesta 1.3** \n",
    "La proyección en el primer plano principal conserva mas del 99% de la varianza de los datos, por lo que esta proyecció representa plenamente lo que ocurre con las clases. La clase 1 es la que menos uso hace de los recursos CPU y E/S y además posee tiempos de servicio pequeños. La Clase 3 es intermedia en uso de recursos, con mayor proporción de uso de CPU y la Clase 2 con solo un componente es que mas recursos utiliza, particularmente dispositivos de E/S."
   ]
  },
  {
   "cell_type": "markdown",
   "metadata": {},
   "source": [
    "## Pregunta 2\n",
    "De los resultados publicados de SPEC2017 para el índice de operaciones con coma flotante,\n",
    "se ha extraído en el archivo \"datosSpec.csv\" los valores obtenidos con dos servidores.\n",
    "\n",
    "Servidor A: ASUS ESC8000 G4(Z11PG-D24) Server System (3.40 GHz, Intel Xeon Gold 6246R)\n",
    "\n",
    "Servidor B: ASUS RS700A-E9V2(KNPP-D32-R) Server System (3.20 GHz, AMD EPYC 7F72)\n",
    "\n",
    "Para comparar su rendimiento se pide calcular:\n",
    "\n",
    "1) El índice de prestaciones al estilo SPEC para los servidores A y B. Interprete sus resultados.\n",
    "\n",
    "2) Considerando los tiempos de ejecución de cada programa, comparar los rendimientos de los servidores A y B. Son significativas las diferencias?\n",
    "\n",
    "3) Compare sus resultados en (1) y (2). Son consistentes? Interprete a la luz de las configuraciones de ambos servidores."
   ]
  },
  {
   "cell_type": "code",
   "execution_count": 17,
   "metadata": {},
   "outputs": [
    {
     "name": "stdout",
     "output_type": "stream",
     "text": [
      "   Reference_Time BaseRunTime_A PeakRunTime_A BaseRunTime_B PeakRunTime_B\n",
      "1             590           100           100           105           105\n",
      "2             167           102           102            64            64\n",
      "3              52            47            47            87            87\n",
      "4             132            84            82           111           105\n",
      "5              89            90            90            89            89\n",
      "6             119           155           153           217           217\n",
      "7             144           113           113            68            68\n",
      "8             175            68            68            58            50\n",
      "9              91            97            96            96            96\n",
      "10            157            81            81            75            75\n"
     ]
    },
    {
     "data": {
      "text/plain": [
       " Reference_Time  BaseRunTime_A    PeakRunTime_A    BaseRunTime_B   \n",
       " Min.   : 52.0   Min.   : 47.00   Min.   : 47.00   Min.   : 58.00  \n",
       " 1st Qu.: 98.0   1st Qu.: 81.75   1st Qu.: 81.25   1st Qu.: 69.75  \n",
       " Median :138.0   Median : 93.50   Median : 93.00   Median : 88.00  \n",
       " Mean   :171.6   Mean   : 93.70   Mean   : 93.20   Mean   : 97.00  \n",
       " 3rd Qu.:164.5   3rd Qu.:101.50   3rd Qu.:101.50   3rd Qu.:102.75  \n",
       " Max.   :590.0   Max.   :155.00   Max.   :153.00   Max.   :217.00  \n",
       " PeakRunTime_B   \n",
       " Min.   : 50.00  \n",
       " 1st Qu.: 69.75  \n",
       " Median : 88.00  \n",
       " Mean   : 95.60  \n",
       " 3rd Qu.:102.75  \n",
       " Max.   :217.00  "
      ]
     },
     "metadata": {},
     "output_type": "display_data"
    },
    {
     "name": "stdout",
     "output_type": "stream",
     "text": [
      "         Benchmark Reference_Time BaseRunTime_A PeakRunTime_A BaseRunTime_B\n",
      "1     603,bwaves_s            590           100           100           105\n",
      "2  607,cactuBSSN_s            167           102           102            64\n",
      "3        619,lbm_s             52            47            47            87\n",
      "4        621,wrf_s            132            84            82           111\n",
      "5       627,cam4_s             89            90            90            89\n",
      "6       628,pop2_s            119           155           153           217\n",
      "7    638,imagick_s            144           113           113            68\n",
      "8        644,nab_s            175            68            68            58\n",
      "9  649,fotonik3d_s             91            97            96            96\n",
      "10      654,roms_s            157            81            81            75\n",
      "   PeakRunTime_B\n",
      "1            105\n",
      "2             64\n",
      "3             87\n",
      "4            105\n",
      "5             89\n",
      "6            217\n",
      "7             68\n",
      "8             50\n",
      "9             96\n",
      "10            75\n"
     ]
    },
    {
     "data": {
      "image/png": "[encoded data removed]",
      "text/plain": [
       "plot without title"
      ]
     },
     "metadata": {
      "image/png": {
       "height": 480,
       "width": 480
      },
      "text/plain": {
       "height": 480,
       "width": 480
      }
     },
     "output_type": "display_data"
    }
   ],
   "source": [
    "#ruta datos\n",
    "#lee datos del archivo de texto como una matriz. La primera #fila se utiliza \n",
    "#como vector de nombres de las columnas\n",
    "datos <-read.table(\"datosSPEC.csv\",sep=\";\",header=TRUE)\n",
    "\n",
    "print(datos[,2:6])\n",
    "summary(datos[,2:6])\n",
    "boxplot(datos[,2:6])\n",
    "print(datos)"
   ]
  },
  {
   "cell_type": "markdown",
   "metadata": {},
   "source": [
    "**Pregunta 2.1**\n",
    "Utilizaremos el calculo del índice de rendimiento a la manera de SPEC. Para ello se calculan las tasas de los tiempos de respuesta de las máquinas A y B respecto de la máquina de referencia, por cada programa, y luego se calcula la media geométrica entre ellas. Se considera el cálculo con los tiempos base. En el cálculo se obtiene que la máquina A tiene un leve mayor rendimiento que la máquina B"
   ]
  },
  {
   "cell_type": "code",
   "execution_count": 3,
   "metadata": {},
   "outputs": [
    {
     "ename": "ERROR",
     "evalue": "Error in eval(expr, envir, enclos): objeto 'datos' no encontrado\n",
     "output_type": "error",
     "traceback": [
      "Error in eval(expr, envir, enclos): objeto 'datos' no encontrado\nTraceback:\n"
     ]
    }
   ],
   "source": [
    "tasaA <- datos[,2]/datos[,3]*100 \n",
    "prodA <- prod(tasaA)\n",
    "print(prodA^(1/10))\n",
    "\n",
    "tasaB <- datos[,2]/datos[,5]*100\n",
    "prodB <- prod(tasaB)\n",
    "print(prodB^(1/10))"
   ]
  },
  {
   "cell_type": "markdown",
   "metadata": {},
   "source": [
    "**Pregunta 2.2**\n",
    "Se construye el intervalo de confianza para la media de las diferencias. Para ello se calculan las diferencias y luego se obtiene media y desviación estándar y se construye el intervalo de confianza como sigue:\n",
    "$$ \\bar{d} \\pm t_{\\alpha=0.025, n-1=9} \\frac{S_d}{\\sqrt{n}} \\qquad\\qquad S_d = \\sqrt{\\frac{\\sum_{i=1}^10 (d_i-\\bar{d})^2}{9}}\\qquad\\qquad t_{\\alpha=0.025, n-1=9}=2,262 $$\n",
    "Se puede concluir que las diferencias no son significativas ya que el intervalo contiene al cero con un grado de confianza del 95%"
   ]
  },
  {
   "cell_type": "code",
   "execution_count": 2,
   "metadata": {},
   "outputs": [
    {
     "ename": "ERROR",
     "evalue": "Error in eval(expr, envir, enclos): objeto 'datos' no encontrado\n",
     "output_type": "error",
     "traceback": [
      "Error in eval(expr, envir, enclos): objeto 'datos' no encontrado\nTraceback:\n"
     ]
    }
   ],
   "source": [
    "A = datos[,3]\n",
    "B = datos[,5]\n",
    "dif = A-B\n",
    "dbar = mean(dif)\n",
    "s = sd(dif)\n",
    "t= qt(0.975,9)\n",
    "variacion = t * s/(10^0.5)\n",
    "print(dif)\n",
    "print(s)\n",
    "print(t)\n",
    "print(variacion)\n",
    "print(dbar)\n",
    "print(dbar+variacion)\n",
    "print(dbar-variacion)"
   ]
  },
  {
   "cell_type": "markdown",
   "metadata": {},
   "source": [
    "**Pregunta 2.3** Hay consistencia en los resultados pues la diferencia de rendimiento que entrega el indice SPEC, en favor de la máquina A es muy pequeña. En relación a las propiedades del hardware, se puede apreciar que cada una tiene  ventajas y desventajas respecto de la otra: Frecuencias de los procesadores, número de núcleos, etc., que resultan compatibles con los desempeños similares."
   ]
  },
  {
   "cell_type": "code",
   "execution_count": null,
   "metadata": {},
   "outputs": [],
   "source": []
  }
 ],
 "metadata": {
  "celltoolbar": "Raw Cell Format",
  "kernelspec": {
   "display_name": "R",
   "language": "R",
   "name": "ir"
  },
  "language_info": {
   "codemirror_mode": "r",
   "file_extension": ".r",
   "mimetype": "text/x-r-source",
   "name": "R",
   "pygments_lexer": "r",
   "version": "3.6.1"
  }
 },
 "nbformat": 4,
 "nbformat_minor": 2
}
